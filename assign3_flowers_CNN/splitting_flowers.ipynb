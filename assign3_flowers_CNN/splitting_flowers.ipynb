{
 "cells": [
  {
   "cell_type": "code",
   "execution_count": 9,
   "metadata": {},
   "outputs": [],
   "source": [
    "\"\"\"\n",
    "3.1-flowers_create_dataset.py \n",
    "Categorizing the flower dataset\n",
    "Creating the dataset\n",
    "Author: Pierre Nugues\n",
    "\"\"\"\n",
    "\n",
    "import os\n",
    "import random\n",
    "import shutil\n",
    "import numpy as np"
   ]
  },
  {
   "cell_type": "code",
   "execution_count": 13,
   "metadata": {},
   "outputs": [],
   "source": [
    "vilde = False\n",
    "np.random.seed(0)\n",
    "\n",
    "if vilde:\n",
    "    base = '/media/hi8826mo-s/BEEE-DE51/Ultimi/'\n",
    "else:\n",
    "    base = '/media/hi8826mo-s/BEEE-DE51/Ultimi/'\n",
    "    \n",
    "# Path to the directory where the original dataset was uncompressed    \n",
    "original_dataset_dir = os.path.join(base, '/media/hi8826mo-s/BEEE-DE51/Ultimi/EDAN95_Applied_Machine_Learning/labs/flowers')\n",
    "\n",
    "# Directory where we'll store our smaller dataset, base_dir\n",
    "dataset = os.path.join(base, '/media/hi8826mo-s/BEEE-DE51/Ultimi/EDAN95_Applied_Machine_Learning/labs/flowers_split')"
   ]
  },
  {
   "cell_type": "code",
   "execution_count": 14,
   "metadata": {},
   "outputs": [],
   "source": [
    "# Directories for the training, validation and test splits\n",
    "train_dir = os.path.join(dataset, 'train')\n",
    "validation_dir = os.path.join(dataset, 'validation')\n",
    "test_dir = os.path.join(dataset, 'test')"
   ]
  },
  {
   "cell_type": "code",
   "execution_count": 15,
   "metadata": {},
   "outputs": [
    {
     "name": "stdout",
     "output_type": "stream",
     "text": [
      "Image types: ['daisy', 'dandelion', 'rose', 'sunflower', 'tulip']\n"
     ]
    }
   ],
   "source": [
    "# Read all the file names\n",
    "categories = os.listdir(original_dataset_dir)\n",
    "categories = [category for category in categories if not category.startswith('.')]\n",
    "print('Image types:', categories)\n",
    "data_folders = [os.path.join(original_dataset_dir, category) for category in categories]"
   ]
  },
  {
   "cell_type": "code",
   "execution_count": 16,
   "metadata": {},
   "outputs": [],
   "source": [
    "# Create a list of pairs (file_name, category)\n",
    "pairs = []\n",
    "for folder, category in zip(data_folders, categories):\n",
    "    images = os.listdir(folder)\n",
    "    images = [image for image in images if not image.startswith('.')]\n",
    "    pairs.extend([(image, category) for image in images])"
   ]
  },
  {
   "cell_type": "code",
   "execution_count": 17,
   "metadata": {},
   "outputs": [],
   "source": [
    "# shuffle() randomizes the items of a list in place\n",
    "random.shuffle(pairs) \n",
    "img_nbr = len(pairs)\n",
    "\n",
    "# creates a new dataset containing 3 subsets 60/20/20 ratio\n",
    "train_images = pairs[0:int(0.6 * img_nbr)]\n",
    "val_images = pairs[int(0.6 * img_nbr):int(0.8 * img_nbr)]\n",
    "test_images = pairs[int(0.8 * img_nbr):]"
   ]
  },
  {
   "cell_type": "code",
   "execution_count": 18,
   "metadata": {},
   "outputs": [
    {
     "name": "stdout",
     "output_type": "stream",
     "text": [
      "2595\n",
      "865\n",
      "866\n"
     ]
    }
   ],
   "source": [
    "# print(train_images)\n",
    "print(len(train_images))\n",
    "print(len(val_images))\n",
    "print(len(test_images))"
   ]
  },
  {
   "cell_type": "code",
   "execution_count": 19,
   "metadata": {},
   "outputs": [],
   "source": [
    "# Copies the first 60 % flower images to train_dir\n",
    "for image, label in train_images:\n",
    "    src = os.path.join(original_dataset_dir, label, image)\n",
    "    dst = os.path.join(train_dir, label, image)\n",
    "    os.makedirs(os.path.dirname(dst), exist_ok=True)\n",
    "    shutil.copyfile(src, dst)\n",
    "\n",
    "# Copies the next 20 % flower images to validation_dir\n",
    "for image, label in val_images:\n",
    "    src = os.path.join(original_dataset_dir, label, image)\n",
    "    dst = os.path.join(validation_dir, label, image)\n",
    "    os.makedirs(os.path.dirname(dst), exist_ok=True)\n",
    "    shutil.copyfile(src, dst)\n",
    "\n",
    "# Copies the next 20 % flower images to test_dir\n",
    "for image, label in test_images:\n",
    "    src = os.path.join(original_dataset_dir, label, image)\n",
    "    dst = os.path.join(test_dir, label, image)\n",
    "    os.makedirs(os.path.dirname(dst), exist_ok=True)\n",
    "    shutil.copyfile(src, dst)"
   ]
  },
  {
   "cell_type": "code",
   "execution_count": null,
   "metadata": {},
   "outputs": [],
   "source": []
  },
  {
   "cell_type": "code",
   "execution_count": null,
   "metadata": {},
   "outputs": [],
   "source": []
  },
  {
   "cell_type": "code",
   "execution_count": null,
   "metadata": {},
   "outputs": [],
   "source": []
  }
 ],
 "metadata": {
  "kernelspec": {
   "display_name": "Python 3",
   "language": "python",
   "name": "python3"
  },
  "language_info": {
   "codemirror_mode": {
    "name": "ipython",
    "version": 3
   },
   "file_extension": ".py",
   "mimetype": "text/x-python",
   "name": "python",
   "nbconvert_exporter": "python",
   "pygments_lexer": "ipython3",
   "version": "3.6.5"
  }
 },
 "nbformat": 4,
 "nbformat_minor": 2
}
